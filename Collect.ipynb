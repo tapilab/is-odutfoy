{
 "cells": [
  {
   "cell_type": "markdown",
   "metadata": {},
   "source": [
    "# Collect\n",
    "\n",
    "This notebook contains the replication of the data collection and generation of features matrices.\n",
    "These functions do not need to be ran again for Replicate.ipynb to run correcly.\n",
    "This file was created so the code is accesible in a notebook but it takes a while to run."
   ]
  },
  {
   "cell_type": "markdown",
   "metadata": {},
   "source": [
    "# Data Collection"
   ]
  },
  {
   "cell_type": "code",
   "execution_count": null,
   "metadata": {
    "collapsed": true
   },
   "outputs": [],
   "source": [
    "#Imports\n",
    "import requests\n",
    "import json\n",
    "import pickle\n",
    "import os\n",
    "from time import sleep\n",
    "import sys\n",
    "import shutil\n",
    "import glob\n",
    "import numpy as np"
   ]
  },
  {
   "cell_type": "code",
   "execution_count": null,
   "metadata": {
    "collapsed": true
   },
   "outputs": [],
   "source": [
    "#headers used for requests\n",
    "\n",
    "cookies = {\n",
    "    'ug': '564bc5cb06dd690a3c852e7da205ef8b',\n",
    "    'ugs': '1',\n",
    "    '_gat': '1',\n",
    "    '_ga': 'GA1.2.1028222052.1454632808',\n",
    "    'crtg_trnr': '',\n",
    "    's_cc': 'true',\n",
    "    's_vi': '[CS]v1|2B1C901605010772-40000146E0028408[CE]',\n",
    "    's_sq': 'nbag-n-league%3D%2526pid%253Dstats.nba.com%25253A%25252Fplayer%25252F%2526pidt%253D1%2526oid%253Dhttp%25253A%25252F%25252Fstats.nba.com%25252Fplayer%25252F%2526ot%253DA',\n",
    "    's_fid': '611F6CAB17F03E6A-0F7BD99682C4658E',\n",
    "}\n",
    "\n",
    "headers = {\n",
    "    'Accept-Encoding': 'gzip, deflate, sdch',\n",
    "    'Accept-Language': 'en-US,en;q=0.8',\n",
    "    'User-Agent': 'Mozilla/5.0 (X11; Linux x86_64) AppleWebKit/537.36 (KHTML, like Gecko) Ubuntu Chromium/45.0.2454.85 Chrome/45.0.2454.85 Safari/537.36',\n",
    "    'Accept': 'application/json, text/plain, */*',\n",
    "    'Referer': 'http://stats.nba.com/league/player/',\n",
    "    'Connection': 'keep-alive',\n",
    "    'Cache-Control': 'max-age=0',\n",
    "}"
   ]
  },
  {
   "cell_type": "code",
   "execution_count": null,
   "metadata": {
    "collapsed": true
   },
   "outputs": [],
   "source": [
    "#dumps in pickle file the list of players in a given season (has to be str i.e '2013-14')\n",
    "def get_player_list(season):\n",
    "    if os.path.exists('data' + os.sep + season):\n",
    "        shutil.rmtree('data' + os.sep + season)\n",
    "\n",
    "    os.makedirs('data' + os.sep + season)\n",
    "    os.makedirs('data' + os.sep + season + os.sep + 'averages')\n",
    "\n",
    "    req = requests.request('GET', 'http://stats.nba.com/stats/leaguedashplayerstats?College=&Conference=&Country=&DateFrom=&DateTo=&Division=&DraftPick=&DraftYear=&GameScope=&GameSegment=&Height=&LastNGames=0&LeagueID=00&Location=&MeasureType=Base&Month=0&OpponentTeamID=0&Outcome=&PORound=0&PaceAdjust=N&PerMode=PerGame&Period=0&PlayerExperience=&PlayerPosition=&PlusMinus=N&Rank=N&Season=' + season + '&SeasonSegment=&SeasonType=Regular+Season&ShotClockRange=&StarterBench=&TeamID=0&VsConference=&VsDivision=&Weight=', headers=headers, cookies=cookies)\n",
    "\n",
    "    player_list = json.loads(req.content)\n",
    "\n",
    "    pickle.dump(player_list, open('data' + os.sep + season + os.sep + 'player_list.pkl', 'wb'))"
   ]
  },
  {
   "cell_type": "code",
   "execution_count": null,
   "metadata": {
    "collapsed": true
   },
   "outputs": [],
   "source": [
    "#gets the data of all players for one season in a structured dict (player list of season must exist)\n",
    "def get_data(season):\n",
    "    if os.path.exists('data' + os.sep + season + os.sep + 'player_stats'):\n",
    "        shutil.rmtree('data' + os.sep + season + os.sep + 'player_stats')\n",
    "\n",
    "    os.makedirs('data' + os.sep + season + os.sep + 'player_stats')\n",
    "\n",
    "\n",
    "    player_info = dict()\n",
    "\n",
    "    player_list = pickle.load(open('data' + os.sep + season + os.sep + 'player_list.pkl', 'rb'))\n",
    "\n",
    "    for i, player in enumerate(player_list['resultSets'][0]['rowSet']):\n",
    "\n",
    "        print \"fetching stats of player %d\" % (i + 1)\n",
    "\n",
    "        name_req = requests.request('GET', 'http://stats.nba.com/stats/commonplayerinfo?LeagueID=00&PlayerID=' + str(player[0]) + '&SeasonType=Regular+Season', headers=headers, cookies=cookies)\n",
    "        sleep(1)\n",
    "\n",
    "        player_info['name'] = json.loads(name_req.content)['resultSets'][0]['rowSet'][0][3]\n",
    "\n",
    "        birthdate = json.loads(name_req.content)['resultSets'][0]['rowSet'][0][6]\n",
    "        start_year = json.loads(name_req.content)['resultSets'][0]['rowSet'][0][22]\n",
    "\n",
    "        player_info['experience'] = int(season.split('-')[0]) - start_year\n",
    "        player_info['age'] = int(season.split('-')[0]) - int(birthdate.split('-')[0]) #approximation\n",
    "\n",
    "        #may be interesting but incomplete for previous seasons\n",
    "        # player_info['height'] = json.loads(name_req.content)['resultSets'][0]['rowSet'][0][10]\n",
    "        # player_info['weight'] = json.loads(name_req.content)['resultSets'][0]['rowSet'][0][11]\n",
    "        # player_info['position'] = json.loads(name_req.content)['resultSets'][0]['rowSet'][0][14]\n",
    "\n",
    "        stats_req = requests.request('GET', 'http://stats.nba.com/stats/playergamelog?LeagueID=00&PlayerID=' + str(player[0]) + '&Season=' + season + '&SeasonType=Regular+Season', headers=headers, cookies=cookies)\n",
    "        sleep(1)\n",
    "\n",
    "\n",
    "        player_info['stats'] = []\n",
    "\n",
    "        #removing useless data\n",
    "        for match in json.loads(stats_req.content)['resultSets'][0]['rowSet'][::-1]:\n",
    "            player_info['stats'].append(match[2:-1])\n",
    "\n",
    "        pickle.dump(player_info, open('data' + os.sep + season + os.sep + 'player_stats' + os.sep + str(player[0]) + '.pkl', 'wb'))"
   ]
  },
  {
   "cell_type": "code",
   "execution_count": null,
   "metadata": {
    "collapsed": true
   },
   "outputs": [],
   "source": [
    "#Example to fetch data for season 2004-05 (~15 minutes)\n",
    "get_player_list(\"2004-05\")\n",
    "get_data(\"2004-05\")"
   ]
  },
  {
   "cell_type": "markdown",
   "metadata": {},
   "source": [
    "# Averaging methods"
   ]
  },
  {
   "cell_type": "code",
   "execution_count": null,
   "metadata": {
    "collapsed": true
   },
   "outputs": [],
   "source": [
    "#Returns the averaged stats (all, home and away) of a given player in his first given number of games as well as winrate\n",
    "#Returns averaged of all games but last by default\n",
    "def average(season, playerID, number_games = -1):\n",
    "    player = pickle.load(open('data' + os.sep + season + os.sep + 'player_stats' + os.sep + playerID + '.pkl', 'rb'))\n",
    "    games_num = len(player['stats'])\n",
    "\n",
    "    if number_games == 0:\n",
    "        tmp = [0.]*23\n",
    "        tmp[21] = player['experience']\n",
    "        tmp[22] = player['age']\n",
    "        return tmp, tmp, tmp\n",
    "        # print \"Please choose a strictly positive number of games\"\n",
    "        # exit()\n",
    "\n",
    "    if number_games == -1:\n",
    "        return average(season, playerID, games_num - 1)\n",
    "\n",
    "    elif number_games > games_num:\n",
    "        print \"not enough games, returned average of all available games (%d)\" % games_num\n",
    "        return average(season, playerID, games_num)\n",
    "\n",
    "    else:\n",
    "        averaged = [float(sum(x))/float(len(x)) for x in zip(*[match[4:] for match in player['stats'][:number_games]])]\n",
    "        won = float([match[3] for match in player['stats'][:number_games]].count('W'))\n",
    "        winrate = won/number_games\n",
    "        averaged.append(winrate)\n",
    "        averaged.append(player['experience'])\n",
    "        averaged.append(player['age'])\n",
    "\n",
    "        home = [match for match in player['stats'][:number_games] if match[2][4] == '@']\n",
    "        away = [match for match in player['stats'][:number_games] if match[2][4] != '@']\n",
    "\n",
    "        #In order to avoid unreferenced return\n",
    "        home_avg = []\n",
    "        away_avg = []\n",
    "\n",
    "        if len(home) != 0:\n",
    "            home_avg = [float(sum(x))/float(len(x)) for x in zip(*[match[4:] for match in home])]\n",
    "            home_won = float([match[3] for match in home].count('W'))\n",
    "            home_winrate = home_won/len(home)\n",
    "            home_avg.append(home_winrate)\n",
    "            home_avg.append(player['experience'])\n",
    "            home_avg.append(player['age'])\n",
    "\n",
    "        if len(away) != 0:\n",
    "            away_avg = [float(sum(x))/float(len(x)) for x in zip(*[match[4:] for match in away])]\n",
    "            away_won = float([match[3] for match in away].count('W'))\n",
    "            away_winrate = away_won/len(away)\n",
    "            away_avg.append(away_winrate)\n",
    "            away_avg.append(player['experience'])\n",
    "            away_avg.append(player['age'])\n",
    "\n",
    "        return averaged, home_avg, away_avg"
   ]
  },
  {
   "cell_type": "code",
   "execution_count": null,
   "metadata": {
    "collapsed": true
   },
   "outputs": [],
   "source": [
    "#example\n",
    "print average('2011-12', '201149')"
   ]
  },
  {
   "cell_type": "code",
   "execution_count": null,
   "metadata": {
    "collapsed": true
   },
   "outputs": [],
   "source": [
    "def compute_fantasy(season, playerID, game_number = -1,\n",
    "                    PTS = 1, BLK = 1, STL = 1, AST = 1, REB = 1, FGM = 1, FTM = 1, FGA = -1, FTA = -1, TOV = -1):\n",
    "    player = pickle.load(open('data' + os.sep + season + os.sep + 'player_stats' + os.sep + playerID + '.pkl', 'rb'))\n",
    "    games_num = len(player['stats'])\n",
    "\n",
    "    if game_number == -1:\n",
    "        return compute_fantasy(season, playerID, games_num,\n",
    "                        PTS, BLK, STL, AST, REB, FGM, FTM, FGA, FTA, TOV)\n",
    "\n",
    "    elif game_number > games_num:\n",
    "        print \"This game does not exist, returned last game played instead\"\n",
    "        return compute_fantasy(season, playerID, games_num,\n",
    "                        PTS, BLK, STL, AST, REB, FGM, FTM, FGA, FTA, TOV)\n",
    "\n",
    "    else:\n",
    "        game = player['stats'][game_number - 1]\n",
    "        score = PTS*game[20] + BLK*game[19] + STL*game[18] + AST*game[17] + REB*game[16] + FGM*game[5]\n",
    "        + FTM*game[11] + FGA*game[6] + FTA*game[12] + TOV*game[20]\n",
    "\n",
    "        return score"
   ]
  },
  {
   "cell_type": "code",
   "execution_count": null,
   "metadata": {
    "collapsed": true
   },
   "outputs": [],
   "source": [
    "#example\n",
    "print compute_fantasy('2011-12', '201149')"
   ]
  },
  {
   "cell_type": "code",
   "execution_count": null,
   "metadata": {
    "collapsed": true
   },
   "outputs": [],
   "source": [
    "#returns weighted average with avg1 more important than avg by factor of weight\n",
    "def weighted_average(avg1, avg2, weight = 2):\n",
    "    if len(avg1) == 0:\n",
    "        return avg2\n",
    "\n",
    "    elif len(avg2) == 0:\n",
    "        return avg1\n",
    "\n",
    "    avg = []\n",
    "    for a, b, in zip(avg1, avg2):\n",
    "        tmp = (a*weight + b)/(weight + 1)\n",
    "        avg.append(tmp)\n",
    "\n",
    "    return avg"
   ]
  },
  {
   "cell_type": "markdown",
   "metadata": {},
   "source": [
    "# Generating Feature Matrix"
   ]
  },
  {
   "cell_type": "code",
   "execution_count": null,
   "metadata": {
    "collapsed": true
   },
   "outputs": [],
   "source": [
    "#prepares data to be fit using only raw averages of all games (but the last) of each players\n",
    "def raw_averages(season):\n",
    "    averages = []\n",
    "    next_match_points = []\n",
    "    players = glob.glob('data' + os.sep + season + os.sep + 'player_stats' + os.sep + \"*.pkl\")\n",
    "    for file in players:\n",
    "        playerID = file[26:-4]\n",
    "        averages.append(average(season, playerID)[0])\n",
    "        next_match_points.append(compute_fantasy(season, playerID))\n",
    "    X = np.array(averages)\n",
    "    y = np.array(next_match_points)\n",
    "\n",
    "    if os.path.exists('data' + os.sep + season + os.sep + 'averages' + os.sep + 'raw_X' + '.pkl'):\n",
    "        os.remove('data' + os.sep + season + os.sep + 'averages' + os.sep + 'raw_X' + '.pkl')\n",
    "        os.remove('data' + os.sep + season + os.sep + 'averages' + os.sep + 'raw_y' + '.pkl')\n",
    "\n",
    "    pickle.dump(X, open('data' + os.sep + season + os.sep + 'averages' + os.sep + 'raw_X' + '.pkl', 'wb'))\n",
    "    pickle.dump(y, open('data' + os.sep + season + os.sep + 'averages' + os.sep + 'raw_y' + '.pkl', 'wb'))\n",
    "\n",
    "    return X, y"
   ]
  },
  {
   "cell_type": "code",
   "execution_count": null,
   "metadata": {
    "collapsed": true
   },
   "outputs": [],
   "source": [
    "#sliding average using weight depending on whether next game is home or away\n",
    "def sliding_loc_weight_average(season, playerID, weight = 2):\n",
    "    averages = []\n",
    "    next_match_points = []\n",
    "    player = pickle.load(open('data' + os.sep + season + os.sep + 'player_stats' + os.sep + playerID + '.pkl', 'rb'))\n",
    "    games_num = len(player['stats'])\n",
    "\n",
    "    for i in range(1, games_num - 1):\n",
    "        all, home, away = average(season, playerID, i)\n",
    "        next_match_points.append(compute_fantasy(season, playerID, i + 1))\n",
    "        #test if next game is home or away\n",
    "        if player['stats'][i + 1][2][4] == '@':\n",
    "            avg = weighted_average(home, away, weight)\n",
    "            averages.append(avg)\n",
    "\n",
    "        else:\n",
    "            avg = weighted_average(away, home, weight)\n",
    "            averages.append(avg)\n",
    "\n",
    "    X = np.array(averages)\n",
    "    y = np.array(next_match_points)\n",
    "\n",
    "    return X, y"
   ]
  },
  {
   "cell_type": "code",
   "execution_count": null,
   "metadata": {
    "collapsed": true
   },
   "outputs": [],
   "source": [
    "#sliding averages for all players in one season using location weighted average\n",
    "def sliding_averages(season, weight = 2):\n",
    "    Xs = []\n",
    "    ys = []\n",
    "    players = glob.glob('data' + os.sep + season + os.sep + 'player_stats' + os.sep + \"*.pkl\")\n",
    "    for file in players:\n",
    "        playerID = file[26:-4]\n",
    "        X, y = sliding_loc_weight_average(season, playerID, weight)\n",
    "\n",
    "        if X.shape != (0,):\n",
    "            Xs.append(X)\n",
    "            ys.append(y)\n",
    "\n",
    "    Xf = np.concatenate(Xs)\n",
    "    yf = np.concatenate(ys)\n",
    "\n",
    "    if os.path.exists('data' + os.sep + season + os.sep + 'averages' + os.sep + 'sliding_X' + str(weight) + '.pkl'):\n",
    "        os.remove('data' + os.sep + season + os.sep + 'averages' + os.sep + 'sliding_X' + str(weight) + '.pkl')\n",
    "        os.remove('data' + os.sep + season + os.sep + 'averages' + os.sep + 'sliding_y' + str(weight) + '.pkl')\n",
    "\n",
    "    pickle.dump(Xf, open('data' + os.sep + season + os.sep + 'averages' + os.sep + 'sliding_X' + str(weight) + '.pkl', 'wb'))\n",
    "    pickle.dump(yf, open('data' + os.sep + season + os.sep + 'averages' + os.sep + 'sliding_y' + str(weight) + '.pkl', 'wb'))\n",
    "\n",
    "    return Xf, yf"
   ]
  },
  {
   "cell_type": "code",
   "execution_count": null,
   "metadata": {
    "collapsed": true
   },
   "outputs": [],
   "source": [
    "#sliding average with twice as many features (one general and one H/A)\n",
    "def sliding_loc_average(season, playerID):\n",
    "    averages = []\n",
    "    next_match_points = []\n",
    "    player = pickle.load(open('data' + os.sep + season + os.sep + 'player_stats' + os.sep + playerID + '.pkl', 'rb'))\n",
    "    games_num = len(player['stats'])\n",
    "\n",
    "    for i in range(1, games_num - 1):\n",
    "        all, home, away = average(season, playerID, i)\n",
    "        points = compute_fantasy(season, playerID, i + 1)\n",
    "        next_match_points.append(points)\n",
    "        averages.append(all)\n",
    "\n",
    "        #test if next game is home or away\n",
    "        if player['stats'][i + 1][2][4] == '@' and home != []:\n",
    "            next_match_points.append(points)\n",
    "            averages.append(home)\n",
    "\n",
    "\n",
    "        elif away != []:\n",
    "            next_match_points.append(points)\n",
    "            averages.append(away)\n",
    "\n",
    "    X = np.array(averages)\n",
    "    y = np.array(next_match_points)\n",
    "\n",
    "    return X, y"
   ]
  },
  {
   "cell_type": "code",
   "execution_count": null,
   "metadata": {
    "collapsed": true
   },
   "outputs": [],
   "source": [
    "#sliding average with twice as many features (one general and one H/A) for the whole season\n",
    "def sliding_loc_averages(season):\n",
    "    Xs = []\n",
    "    ys = []\n",
    "    players = glob.glob('data' + os.sep + season + os.sep + 'player_stats' + os.sep + \"*.pkl\")\n",
    "    for file in players:\n",
    "        playerID = file[26:-4]\n",
    "        X, y = sliding_loc_average(season, playerID)\n",
    "\n",
    "        if X.shape != (0,):\n",
    "            Xs.append(X)\n",
    "            ys.append(y)\n",
    "\n",
    "    Xf = np.concatenate(Xs)\n",
    "    yf = np.concatenate(ys)\n",
    "\n",
    "    if os.path.exists('data' + os.sep + season + os.sep + 'averages' + os.sep + 'sliding_loc_X' + '.pkl'):\n",
    "        os.remove('data' + os.sep + season + os.sep + 'averages' + os.sep + 'sliding_loc_X' + '.pkl')\n",
    "        os.remove('data' + os.sep + season + os.sep + 'averages' + os.sep + 'sliding_loc_yc' + '.pkl')\n",
    "\n",
    "    pickle.dump(Xf, open('data' + os.sep + season + os.sep + 'averages' + os.sep + 'sliding_loc_X' + '.pkl', 'wb'))\n",
    "    pickle.dump(yf, open('data' + os.sep + season + os.sep + 'averages' + os.sep + 'sliding_loc_y' + '.pkl', 'wb'))\n",
    "\n",
    "    return Xf, yf"
   ]
  },
  {
   "cell_type": "code",
   "execution_count": null,
   "metadata": {
    "collapsed": false
   },
   "outputs": [],
   "source": [
    "#Generates all feature models on a example season. Make sure data is fetched for this season\n",
    "#Takes very long to run!\n",
    "\n",
    "raw_averages(\"2004-05\")\n",
    "#basic sliding average\n",
    "sliding_averages(\"2004-05\")\n",
    "#with a weight of 2\n",
    "sliding_averages(\"2004-05\", 2)\n",
    "sliding_loc_averages(\"2004-05\")"
   ]
  },
  {
   "cell_type": "markdown",
   "metadata": {},
   "source": [
    "# Baselines"
   ]
  },
  {
   "cell_type": "code",
   "execution_count": null,
   "metadata": {
    "collapsed": true
   },
   "outputs": [],
   "source": [
    "def baseline(season):\n",
    "    errors = []\n",
    "    players = glob.glob('data' + os.sep + season + os.sep + 'player_stats' + os.sep + \"*.pkl\")\n",
    "\n",
    "    for file in players:\n",
    "        playerID = file[26:-4]\n",
    "        player = pickle.load(open('data' + os.sep + season + os.sep + 'player_stats' + os.sep + playerID + '.pkl', 'rb'))\n",
    "        games_num = len(player['stats'])\n",
    "\n",
    "        for i in range(1, games_num - 1):\n",
    "            next_points = compute_fantasy(season, playerID, i + 1)\n",
    "            curr_points = compute_fantasy(season, playerID, i)\n",
    "            errors.append(abs(next_points - curr_points))\n",
    "\n",
    "    error = np.mean(errors), np.max(errors)\n",
    "\n",
    "    file = open('data' + os.sep + season + os.sep + 'averages' + os.sep + 'baseline.txt', \"w\")\n",
    "    file.write(\"{}\".format(error))\n",
    "    file.close()\n",
    "\n",
    "    print \"Average error and max error for season {} is {}\".format(season, error)\n",
    "\n",
    "    return error"
   ]
  },
  {
   "cell_type": "code",
   "execution_count": null,
   "metadata": {
    "collapsed": true
   },
   "outputs": [],
   "source": [
    "#example that takes a while to run\n",
    "baseline(\"2004-05\")"
   ]
  },
  {
   "cell_type": "code",
   "execution_count": null,
   "metadata": {
    "collapsed": true
   },
   "outputs": [],
   "source": [
    "def baselines(seasons):\n",
    "    avg_error = 0.\n",
    "    avg_max = 0.\n",
    "\n",
    "    for season in seasons:\n",
    "        print \"computing for season {}\".format(season)\n",
    "        error = baseline(season)\n",
    "        avg_error += error[0]\n",
    "        avg_max += error[1]\n",
    "\n",
    "    result = avg_error/len(seasons), avg_max/len(seasons)\n",
    "\n",
    "    print \"Average error and Averaged max error over all seasons is %s\" % (result,)\n",
    "\n",
    "    return result"
   ]
  },
  {
   "cell_type": "code",
   "execution_count": null,
   "metadata": {
    "collapsed": true
   },
   "outputs": [],
   "source": [
    "#actual result that can be seen in the README\n",
    "#takes FOREVER to run\n",
    "seasons = ['2005-06', '2006-07', '2007-08', '2008-09', '2009-10', '2010-11', '2011-12', '2012-13', '2013-14']\n",
    "baselines(seasons)"
   ]
  }
 ],
 "metadata": {
  "kernelspec": {
   "display_name": "Python 2",
   "language": "python",
   "name": "python2"
  },
  "language_info": {
   "codemirror_mode": {
    "name": "ipython",
    "version": 2
   },
   "file_extension": ".py",
   "mimetype": "text/x-python",
   "name": "python",
   "nbconvert_exporter": "python",
   "pygments_lexer": "ipython2",
   "version": "2.7.6"
  }
 },
 "nbformat": 4,
 "nbformat_minor": 0
}
