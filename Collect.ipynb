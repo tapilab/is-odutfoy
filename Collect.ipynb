{
 "cells": [
  {
   "cell_type": "markdown",
   "metadata": {},
   "source": [
    "# Collect\n",
    "\n",
    "This notebook contains the replication of the data collection.\n",
    "This file was created so the code is accesible in a notebook but it takes a while to run.\n",
    "It is not necessary to run again considering the data is available on the git."
   ]
  },
  {
   "cell_type": "markdown",
   "metadata": {},
   "source": [
    "# Data Collection"
   ]
  },
  {
   "cell_type": "code",
   "execution_count": null,
   "metadata": {
    "collapsed": true
   },
   "outputs": [],
   "source": [
    "#imports\n",
    "import requests\n",
    "import json\n",
    "import pickle\n",
    "import os\n",
    "from time import sleep\n",
    "import sys\n",
    "import shutil\n",
    "import glob"
   ]
  },
  {
   "cell_type": "code",
   "execution_count": null,
   "metadata": {
    "collapsed": true
   },
   "outputs": [],
   "source": [
    "#headers used for requests\n",
    "\n",
    "cookies = {\n",
    "    'ug': '564bc5cb06dd690a3c852e7da205ef8b',\n",
    "    'ugs': '1',\n",
    "    '_gat': '1',\n",
    "    '_ga': 'GA1.2.1028222052.1454632808',\n",
    "    'crtg_trnr': '',\n",
    "    's_cc': 'true',\n",
    "    's_vi': '[CS]v1|2B1C901605010772-40000146E0028408[CE]',\n",
    "    's_sq': 'nbag-n-league%3D%2526pid%253Dstats.nba.com%25253A%25252Fplayer%25252F%2526pidt%253D1%2526oid%253Dhttp%25253A%25252F%25252Fstats.nba.com%25252Fplayer%25252F%2526ot%253DA',\n",
    "    's_fid': '611F6CAB17F03E6A-0F7BD99682C4658E',\n",
    "}\n",
    "\n",
    "headers = {\n",
    "    'Accept-Encoding': 'gzip, deflate, sdch',\n",
    "    'Accept-Language': 'en-US,en;q=0.8',\n",
    "    'User-Agent': 'Mozilla/5.0 (X11; Linux x86_64) AppleWebKit/537.36 (KHTML, like Gecko) Ubuntu Chromium/45.0.2454.85 Chrome/45.0.2454.85 Safari/537.36',\n",
    "    'Accept': 'application/json, text/plain, */*',\n",
    "    'Referer': 'http://stats.nba.com/league/player/',\n",
    "    'Connection': 'keep-alive',\n",
    "    'Cache-Control': 'max-age=0',\n",
    "}"
   ]
  },
  {
   "cell_type": "code",
   "execution_count": null,
   "metadata": {
    "collapsed": true
   },
   "outputs": [],
   "source": [
    "#dumps in pickle file the list of players in a given season (has to be str i.e '2013-14')\n",
    "def get_player_list(season):\n",
    "    if os.path.exists('data' + os.sep + season):\n",
    "        shutil.rmtree('data' + os.sep + season)\n",
    "\n",
    "    os.makedirs('data' + os.sep + season)\n",
    "    os.makedirs('data' + os.sep + season + os.sep + 'averages')\n",
    "\n",
    "    req = requests.request('GET', 'http://stats.nba.com/stats/leaguedashplayerstats?College=&Conference=&Country=&DateFrom=&DateTo=&Division=&DraftPick=&DraftYear=&GameScope=&GameSegment=&Height=&LastNGames=0&LeagueID=00&Location=&MeasureType=Base&Month=0&OpponentTeamID=0&Outcome=&PORound=0&PaceAdjust=N&PerMode=PerGame&Period=0&PlayerExperience=&PlayerPosition=&PlusMinus=N&Rank=N&Season=' + season + '&SeasonSegment=&SeasonType=Regular+Season&ShotClockRange=&StarterBench=&TeamID=0&VsConference=&VsDivision=&Weight=', headers=headers, cookies=cookies)\n",
    "\n",
    "    player_list = json.loads(req.content)\n",
    "\n",
    "    pickle.dump(player_list, open('data' + os.sep + season + os.sep + 'player_list.pkl', 'wb'))"
   ]
  },
  {
   "cell_type": "code",
   "execution_count": null,
   "metadata": {
    "collapsed": true
   },
   "outputs": [],
   "source": [
    "#gets the data of all players for one season in a structured dict (player list of season must exist)\n",
    "#season directory must exist\n",
    "def get_data(season):\n",
    "    if os.path.exists('data' + os.sep + season + os.sep + 'player_stats'):\n",
    "        shutil.rmtree('data' + os.sep + season + os.sep + 'player_stats')\n",
    "\n",
    "    os.makedirs('data' + os.sep + season + os.sep + 'player_stats')\n",
    "\n",
    "    player_list = pickle.load(open('data' + os.sep + season + os.sep + 'player_list.pkl', 'rb'))\n",
    "\n",
    "    for i, player in enumerate(player_list['resultSets'][0]['rowSet']):\n",
    "        player_info = dict()\n",
    "\n",
    "        print \"fetching stats of player %d\" % (i + 1)\n",
    "\n",
    "        name_req = requests.request('GET', 'http://stats.nba.com/stats/commonplayerinfo?LeagueID=00&PlayerID=' + str(player[0]) + '&SeasonType=Regular+Season', headers=headers, cookies=cookies)\n",
    "        sleep(1)\n",
    "\n",
    "        position = json.loads(name_req.content)['resultSets'][0]['rowSet'][0][14]\n",
    "\n",
    "        if position != \"\":\n",
    "\n",
    "            player_info['position'] = position\n",
    "\n",
    "            player_info['name'] = json.loads(name_req.content)['resultSets'][0]['rowSet'][0][3]\n",
    "\n",
    "            birthdate = json.loads(name_req.content)['resultSets'][0]['rowSet'][0][6]\n",
    "            start_year = json.loads(name_req.content)['resultSets'][0]['rowSet'][0][22]\n",
    "\n",
    "            player_info['experience'] = int(season.split('-')[0]) - start_year\n",
    "            player_info['age'] = int(season.split('-')[0]) - int(birthdate.split('-')[0]) #approximation\n",
    "\n",
    "            #may be interesting but incomplete for previous seasons\n",
    "            player_info['height'] = json.loads(name_req.content)['resultSets'][0]['rowSet'][0][10]\n",
    "            player_info['weight'] = json.loads(name_req.content)['resultSets'][0]['rowSet'][0][11]\n",
    "\n",
    "            stats_req = requests.request('GET', 'http://stats.nba.com/stats/playergamelog?LeagueID=00&PlayerID=' + str(player[0]) + '&Season=' + season + '&SeasonType=Regular+Season', headers=headers, cookies=cookies)\n",
    "            sleep(1)\n",
    "\n",
    "\n",
    "            player_info['stats'] = []\n",
    "\n",
    "            #removing useless data\n",
    "            for match in json.loads(stats_req.content)['resultSets'][0]['rowSet'][::-1]:\n",
    "                player_info['stats'].append(match[2:-1])\n",
    "\n",
    "            pickle.dump(player_info, open('data' + os.sep + season + os.sep + 'player_stats' + os.sep + str(player[0]) + '.pkl', 'wb'))"
   ]
  },
  {
   "cell_type": "code",
   "execution_count": null,
   "metadata": {
    "collapsed": false
   },
   "outputs": [],
   "source": [
    "#Example to fetch data for season 2004-05 (~15 minutes)\n",
    "get_player_list(\"2004-05\")\n",
    "get_data(\"2004-05\")"
   ]
  },
  {
   "cell_type": "code",
   "execution_count": null,
   "metadata": {
    "collapsed": true
   },
   "outputs": [],
   "source": []
  }
 ],
 "metadata": {
  "kernelspec": {
   "display_name": "Python 2",
   "language": "python",
   "name": "python2"
  },
  "language_info": {
   "codemirror_mode": {
    "name": "ipython",
    "version": 2
   },
   "file_extension": ".py",
   "mimetype": "text/x-python",
   "name": "python",
   "nbconvert_exporter": "python",
   "pygments_lexer": "ipython2",
   "version": "2.7.6"
  }
 },
 "nbformat": 4,
 "nbformat_minor": 0
}
