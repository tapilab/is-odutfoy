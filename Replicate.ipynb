{
 "cells": [
  {
   "cell_type": "markdown",
   "metadata": {},
   "source": [
    "# Replication\n",
    "\n",
    "This notebook replicates exactly the analysis done for this project."
   ]
  },
  {
   "cell_type": "code",
   "execution_count": null,
   "metadata": {},
   "outputs": [],
   "source": [
    "#imports\n",
    "import pickle\n",
    "import os\n",
    "import glob\n",
    "import numpy as np\n",
    "from sklearn import linear_model\n",
    "import pickle"
   ]
  },
  {
   "cell_type": "code",
   "execution_count": null,
   "metadata": {},
   "outputs": [],
   "source": [
    "#seasons to run analysis on\n",
    "seasons = ['2005-06', '2006-07', '2007-08', '2008-09', '2009-10', '2010-11', '2011-12', '2012-13', '2013-14']"
   ]
  },
  {
   "cell_type": "markdown",
   "metadata": {},
   "source": [
    "# The Regression"
   ]
  },
  {
   "cell_type": "code",
   "execution_count": null,
   "metadata": {},
   "outputs": [],
   "source": [
    "def train_linear(X, y, normalize = False):\n",
    "    lr = linear_model.LinearRegression(normalize=normalize)\n",
    "    lr.fit(X, y)\n",
    "\n",
    "    return lr"
   ]
  },
  {
   "cell_type": "markdown",
   "metadata": {},
   "source": [
    "# The Error Functions"
   ]
  },
  {
   "cell_type": "code",
   "execution_count": null,
   "metadata": {},
   "outputs": [],
   "source": [
    "#computed error given model as input\n",
    "def error(model, X, y):\n",
    "    predictions = model.predict(X)\n",
    "    avg_error = 0.\n",
    "    max_error = 0.\n",
    "    errors = []\n",
    "    for i, prediction in enumerate(predictions):\n",
    "        error = abs(prediction - y[i])\n",
    "        avg_error += error\n",
    "        max_error = error if error > max_error else max_error\n",
    "        errors.append(error)\n",
    "\n",
    "    #plt.plot(errors)\n",
    "    #plt.show()\n",
    "\n",
    "    return avg_error/predictions.shape[0], max_error"
   ]
  },
  {
   "cell_type": "code",
   "execution_count": null,
   "metadata": {},
   "outputs": [],
   "source": [
    "#all but one fold error over seasons using inputed average type (raw, sliding, ...)\n",
    "#Uncomment the commented lines to see detail for each fold\n",
    "def ABOF_error(seasons, average_type = \"raw\", weight = \"\"):\n",
    "    Xs = []\n",
    "    ys = []\n",
    "    for season in seasons:\n",
    "        X = pickle.load(open('data' + os.sep + season + os.sep + 'averages' + os.sep + average_type + '_X' + weight + '.pkl', 'rb'))\n",
    "        y = pickle.load(open('data' + os.sep + season + os.sep + 'averages' + os.sep + average_type + '_y' + weight + '.pkl', 'rb'))\n",
    "        Xs.append(X)\n",
    "        ys.append(y)\n",
    "\n",
    "    errors = []\n",
    "    avg_error = 0.\n",
    "    avg_max = 0.\n",
    "\n",
    "    errorsn = []\n",
    "    avg_errorn = 0.\n",
    "    avg_maxn = 0.\n",
    "\n",
    "    for i, season in enumerate(seasons):\n",
    "        #print \"Testing on season %s (Training on the rest)\" % season\n",
    "        tmp_X = list(Xs)\n",
    "        tmp_y = list(ys)\n",
    "        testX, testy = tmp_X.pop(i), tmp_y.pop(i)\n",
    "        trainX, trainy = np.concatenate(tmp_X), np.concatenate(tmp_y)\n",
    "        model = train_linear(trainX, trainy)\n",
    "        modeln = train_linear(trainX, trainy, True)\n",
    "        err = error(model, testX, testy)\n",
    "        errn = error(modeln, testX, testy)\n",
    "        errors.append(err[0])\n",
    "        errorsn.append(errn[0])\n",
    "        avg_error += err[0]\n",
    "        avg_errorn += errn[0]\n",
    "        avg_max += err[1]\n",
    "        avg_maxn += errn[1]\n",
    "\n",
    "        #print \"error for this season is %s\" % (err,)\n",
    "        #print \"error for this season with normalized features is %s\" % (errn,)\n",
    "\n",
    "    result = avg_error/len(seasons), avg_max/len(seasons)\n",
    "    resultn = avg_errorn/len(seasons), avg_maxn/len(seasons)\n",
    "    print \"Average error and Averaged max error over all seasons is %s\" % (result,)\n",
    "    print \"Average error and Averaged max error over all seasons with normalized features is %s\" % (resultn,)\n",
    "\n",
    "\n",
    "    return result, resultn"
   ]
  },
  {
   "cell_type": "markdown",
   "metadata": {},
   "source": [
    "# Results "
   ]
  },
  {
   "cell_type": "code",
   "execution_count": null,
   "metadata": {},
   "outputs": [],
   "source": [
    "#Takes about a minute\n",
    "print \"RAW\"\n",
    "ABOF_error(seasons)\n",
    "print\"\\n\"\n",
    "print \"SLIDING\"\n",
    "ABOF_error(seasons, \"sliding\")\n",
    "print\"\\n\"\n",
    "print \"SLIDING with weight 2\"\n",
    "ABOF_error(seasons, \"sliding\", \"2\")\n",
    "print\"\\n\"\n",
    "print \"DOUBLE INSTANCES\"\n",
    "ABOF_error(seasons, \"sliding_loc\")"
   ]
  },
  {
   "cell_type": "code",
   "execution_count": null,
   "metadata": {},
   "outputs": [],
   "source": [
    ""
   ]
  }
 ],
 "metadata": {
  "kernelspec": {
   "display_name": "Python 2",
   "language": "python",
   "name": "python2"
  },
  "language_info": {
   "codemirror_mode": {
    "name": "ipython",
    "version": 2.0
   },
   "file_extension": ".py",
   "mimetype": "text/x-python",
   "name": "python",
   "nbconvert_exporter": "python",
   "pygments_lexer": "ipython2",
   "version": "2.7.6"
  }
 },
 "nbformat": 4,
 "nbformat_minor": 0
}